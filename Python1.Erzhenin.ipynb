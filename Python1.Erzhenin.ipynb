{
  "cells": [
    {
      "cell_type": "markdown",
      "metadata": {
        "id": "EVbqAmZF1ckK"
      },
      "source": [
        "# Самостоятельная работа (Введение в Python)"
      ]
    },
    {
      "cell_type": "markdown",
      "metadata": {
        "id": "iQhhkJb8yk0e"
      },
      "source": [
        "## Задача 1. Идентифицируйте себя"
      ]
    },
    {
      "cell_type": "markdown",
      "metadata": {
        "id": "4CntGw70y0cl"
      },
      "source": [
        "Вы принимаете на вход две переменные - `a` - Ваши фамилия имя отчество и `b` - Ваша учебная группа. Необходимо вывести эти данные на экран в виде: Добрый день! Меня зовут \"ФИО\". Я учусь в группе \"номер учебной группы\""
      ]
    },
    {
      "cell_type": "markdown",
      "metadata": {
        "id": "2cTbtyQ62Jn0"
      },
      "source": [
        "### Пример"
      ]
    },
    {
      "cell_type": "markdown",
      "metadata": {
        "id": "rl9nUzJZ0MEd"
      },
      "source": [
        "**Ввод:**\n",
        "\n",
        "```\n",
        "Иванов Иван Иванович\n",
        "ДПИ23-1с\n",
        "```\n",
        "\n",
        "**Вывод:**\n",
        "\n",
        "```\n",
        "Добрый день! Меня зовут Иванов Иван Иванович. Я учусь в группе ДПИ23-1с.\n",
        "\n",
        "```"
      ]
    },
    {
      "cell_type": "code",
      "execution_count": 1,
      "metadata": {
        "id": "VjEAUOwoy85-"
      },
      "outputs": [],
      "source": [
        "name = str(input())\n",
        "group = str(input())"
      ]
    },
    {
      "cell_type": "code",
      "execution_count": 4,
      "metadata": {
        "id": "xDr0YsR_0kNP"
      },
      "outputs": [
        {
          "name": "stdout",
          "output_type": "stream",
          "text": [
            "Добрый день! Меня зовут Ерженин Александр Романович. Я учусь в группе ДПИ23-1с\n"
          ]
        }
      ],
      "source": [
        "# ваш код в этой ячейке\n",
        "a = str(\"Ерженин Александр Романович\")\n",
        "b = str(\"ДПИ23-1с\")\n",
        "\n",
        "print(\"Добрый день! Меня зовут\", a + \". Я учусь в группе\", b)\n"
      ]
    },
    {
      "cell_type": "markdown",
      "metadata": {
        "id": "4vF5X_qh14sO"
      },
      "source": [
        "## Задача 2. Определяем тип переменной"
      ]
    },
    {
      "cell_type": "markdown",
      "metadata": {
        "id": "itvQVuIn2FUV"
      },
      "source": [
        "Вы принимаете на вход 4 переменные. Выведите тип каждой из них"
      ]
    },
    {
      "cell_type": "markdown",
      "metadata": {
        "id": "wip8mnxh2L6M"
      },
      "source": [
        "### Пример"
      ]
    },
    {
      "cell_type": "markdown",
      "metadata": {
        "id": "MCii8ioA2ODr"
      },
      "source": [
        "**Ввод:**\n",
        "\n",
        "```\n",
        "a_1 = \"Решение прикладных задач на Python\"\n",
        "a_2 = 3.14\n",
        "a_3 = 2023\n",
        "a_4 = True\n",
        "```\n",
        "\n",
        "**Вывод:**\n",
        "\n",
        "```\n",
        "'str'\n",
        "'float'\n",
        "'int'\n",
        "'bool'\n",
        "```"
      ]
    },
    {
      "cell_type": "code",
      "execution_count": 12,
      "metadata": {
        "id": "OFWB97mO2Xgi"
      },
      "outputs": [],
      "source": [
        "a_1 = \"Решение прикладных задач на Python\"\n",
        "a_2 = 3.14\n",
        "a_3 = 2023\n",
        "a_4 = True"
      ]
    },
    {
      "cell_type": "code",
      "execution_count": 5,
      "metadata": {
        "id": "b3fGJUig29Rs"
      },
      "outputs": [
        {
          "name": "stdout",
          "output_type": "stream",
          "text": [
            "Тип переменной a_1: <class 'str'>\n",
            "Тип переменной a_2: <class 'float'>\n",
            "Тип переменной a_3: <class 'int'>\n",
            "Тип переменной a_4: <class 'bool'>\n"
          ]
        }
      ],
      "source": [
        "# ваш код в этой ячейке\n",
        "a_1 = \"Решение прикладных задач на Python\"\n",
        "a_2 = 3.14\n",
        "a_3 = 2023\n",
        "a_4 = True\n",
        "\n",
        "type_a_1 = type(a_1)\n",
        "type_a_2 = type(a_2)\n",
        "type_a_3 = type(a_3)\n",
        "type_a_4 = type(a_4)\n",
        "\n",
        "\n",
        "print(\"Тип переменной a_1:\", type_a_1)\n",
        "print(\"Тип переменной a_2:\", type_a_2)\n",
        "print(\"Тип переменной a_3:\", type_a_3)\n",
        "print(\"Тип переменной a_4:\", type_a_4)\n"
      ]
    },
    {
      "cell_type": "markdown",
      "metadata": {
        "id": "zdiRaLuLuJOf"
      },
      "source": [
        "## Задача 3. Геометрия"
      ]
    },
    {
      "cell_type": "markdown",
      "metadata": {
        "id": "ju7Wqnh4uOeN"
      },
      "source": [
        "Вы принимаете на вход две стороны прямоугольника - `a` и `b`. Необходимо вывести его периметр, площадь и диагональ."
      ]
    },
    {
      "cell_type": "markdown",
      "metadata": {
        "id": "Qh6ECPCnugB3"
      },
      "source": [
        "### Пример"
      ]
    },
    {
      "cell_type": "markdown",
      "metadata": {
        "id": "ey2W3nqFugB4"
      },
      "source": [
        "**Ввод:**\n",
        "\n",
        "```\n",
        "4\n",
        "3\n",
        "```\n",
        "\n",
        "**Вывод:**\n",
        "\n",
        "```\n",
        "14\n",
        "12\n",
        "5.0\n",
        "```"
      ]
    },
    {
      "cell_type": "code",
      "execution_count": null,
      "metadata": {
        "id": "VHAi7B2vugB5"
      },
      "outputs": [],
      "source": [
        "a = int(input())\n",
        "b = int(input())"
      ]
    },
    {
      "cell_type": "code",
      "execution_count": 8,
      "metadata": {
        "id": "qB0hSJNMugB5"
      },
      "outputs": [
        {
          "name": "stdout",
          "output_type": "stream",
          "text": [
            "Cторона a = 3\n",
            "Cторона b = 7\n",
            "Периметр прямоугольника =  20\n",
            "Площадь прямоугольника =  21\n",
            "Диагональ прямоугольника =  7.615773105863909\n"
          ]
        }
      ],
      "source": [
        "# ваш код в этой ячейке\n",
        "import math\n",
        "\n",
        "a = int(input())\n",
        "b = int(input())\n",
        "\n",
        "# рассчитываем периметр\n",
        "per = 2 * ( a + b )\n",
        "\n",
        "# рассчитываем площадь\n",
        "area = a * b\n",
        "\n",
        "# рассчитываем диагональ\n",
        "diag = math.sqrt(a**2 + b**2)\n",
        "\n",
        "# вывод \n",
        "print (\"Cторона a =\", a )\n",
        "print (\"Cторона b =\", b )\n",
        "print (\"Периметр прямоугольника = \", per )\n",
        "print (\"Площадь прямоугольника = \", area )\n",
        "print (\"Диагональ прямоугольника = \", diag )\n"
      ]
    },
    {
      "cell_type": "markdown",
      "metadata": {
        "id": "c58PBMtjvAUl"
      },
      "source": [
        "## Задача 4. Банковский вклад"
      ]
    },
    {
      "cell_type": "markdown",
      "metadata": {
        "id": "IQUxTrCuvDVq"
      },
      "source": [
        "Пользователь делает вклад в размере `a` рублей сроком на `years` лет под `rate` % годовых (каждый год размер его вклада увеличивается на `rate` %. Эти деньги прибавляются к сумме вклада, и на них в следующем году тоже будут проценты).\n",
        "\n",
        "Найдите сумму, которая будет на счету пользователя через `years` лет. При выводе отбросьте дробную часть (не будем считать копейки).\n",
        "\n",
        "*Справочно: формула расчета сложных процентов*"
      ]
    },
    {
      "cell_type": "markdown",
      "metadata": {
        "id": "iGpHfk-k6Ntd"
      },
      "source": [
        "![изображение.png](data:image/png;base64,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)"
      ]
    },
    {
      "cell_type": "markdown",
      "metadata": {
        "id": "tpB9CwyAvVGk"
      },
      "source": [
        "### Пример"
      ]
    },
    {
      "cell_type": "markdown",
      "metadata": {
        "id": "95qim08AvVGl"
      },
      "source": [
        "**Ввод:**\n",
        "\n",
        "```\n",
        "1 000 000\n",
        "30\n",
        "10\n",
        "```\n",
        "\n",
        "**Вывод:**\n",
        "\n",
        "```\n",
        "17449402\n",
        "```"
      ]
    },
    {
      "cell_type": "code",
      "execution_count": null,
      "metadata": {
        "id": "Mzr78Xz6vVGm"
      },
      "outputs": [],
      "source": [
        "a = int(input(\"Введите число a: \"))\n",
        "years = int(input(\"Введите число years: \"))\n",
        "rate = int(input(\"Введите число rate: \"))"
      ]
    },
    {
      "cell_type": "code",
      "execution_count": 12,
      "metadata": {
        "id": "6AnPzmHQvVGm"
      },
      "outputs": [
        {
          "name": "stdout",
          "output_type": "stream",
          "text": [
            "Сумма вклада в рублях: 1000000 рублей\n",
            "Срок вклада в годах: 5 лет\n",
            "Процентная ставка: 11.0 %\n",
            "Через 5 лет на счету будет: 1685058 рублей\n"
          ]
        }
      ],
      "source": [
        "# ваш код в этой ячейке\n",
        "\n",
        "def result(principal, rate, years):\n",
        "\n",
        "    sum = principal\n",
        "\n",
        "    for _ in range(years):\n",
        "        sum += sum * rate / 100\n",
        "\n",
        "    return int(sum)  \n",
        "\n",
        "# Ввод данных от пользователя\n",
        "a = int(input(\"Введите сумму вклада в рублях: \"))\n",
        "years = int(input(\"Введите срок вклада в годах: \"))\n",
        "rate = float(input(\"Введите процентную ставку годовых: \"))\n",
        "\n",
        "\n",
        "final_sum = result(a, rate, years)\n",
        "\n",
        "# Вывод результата\n",
        "print(\"Сумма вклада в рублях:\", a, \"рублей\")\n",
        "print(\"Срок вклада в годах:\", years,\"лет\")\n",
        "print(\"Процентная ставка:\", rate,\"%\")\n",
        "print(\"Через\", years, \"лет на счету будет:\", final_sum, \"рублей\")"
      ]
    },
    {
      "cell_type": "markdown",
      "metadata": {
        "id": "_MZHExF30qcb"
      },
      "source": [
        "## Задача 5. Делимое, делитель и остаток"
      ]
    },
    {
      "cell_type": "markdown",
      "metadata": {
        "id": "ppbD8JVO0yvV"
      },
      "source": [
        "Вы получаете на вход два числа - делимое `a` и делитель `b`. Необходимо найти частное и остаток от деления и записать в следующем формате:\n",
        "\n",
        "```\n",
        "{делимое} = {делитель} * {частное} + {остаток}\n",
        "```"
      ]
    },
    {
      "cell_type": "markdown",
      "metadata": {
        "id": "iVfmCifg1Xo4"
      },
      "source": [
        "### Пример"
      ]
    },
    {
      "cell_type": "markdown",
      "metadata": {
        "id": "qFW0mhUA1Xo5"
      },
      "source": [
        "**Ввод:**\n",
        "\n",
        "```\n",
        "42\n",
        "5\n",
        "```\n",
        "\n",
        "**Вывод:**\n",
        "\n",
        "```\n",
        "42 = 5 * 8 + 2\n",
        "```"
      ]
    },
    {
      "cell_type": "code",
      "execution_count": null,
      "metadata": {
        "id": "dDac7qLK1Xo5"
      },
      "outputs": [],
      "source": [
        "a = int(input(\"Введите делимое: \"))\n",
        "b = int(input(\"Введите делитель: \"))"
      ]
    },
    {
      "cell_type": "code",
      "execution_count": 14,
      "metadata": {
        "id": "0gsVLdds1Xo5"
      },
      "outputs": [
        {
          "name": "stdout",
          "output_type": "stream",
          "text": [
            "42 = 5 * 8 + 2\n"
          ]
        }
      ],
      "source": [
        "# ваш код в этой ячейке\n",
        "a = int(input(\"Введите делимое: \"))\n",
        "b = int(input(\"Введите делитель: \"))\n",
        "\n",
        "# находим частное\n",
        "quotien = a // b\n",
        "\n",
        "# находим остаток от деления\n",
        "remain = a % b\n",
        "\n",
        "result = f\"{a} = {b} * {quotien} + {remain}\"\n",
        "\n",
        "print(result)\n"
      ]
    },
    {
      "cell_type": "markdown",
      "metadata": {
        "id": "0dG5QsDnoJw4"
      },
      "source": [
        "## Задача 6*. Преобразования времени"
      ]
    },
    {
      "cell_type": "markdown",
      "metadata": {
        "id": "4jwLaJOisZyC"
      },
      "source": [
        "Преобразуйте количество секунд в формат `дни:часы:минуты:секунды` (без использования `datetime`)."
      ]
    },
    {
      "cell_type": "markdown",
      "metadata": {
        "id": "oFDgkaCb1gjT"
      },
      "source": [
        "### Пример"
      ]
    },
    {
      "cell_type": "markdown",
      "metadata": {
        "id": "As-C3i2RscgC"
      },
      "source": [
        "**Ввод:**\n",
        "\n",
        "```\n",
        "90061\n",
        "```\n",
        "\n",
        "**Вывод:**\n",
        "\n",
        "```\n",
        "1:1:1:1\n",
        "```"
      ]
    },
    {
      "cell_type": "code",
      "execution_count": null,
      "metadata": {
        "id": "riZL3l86TJ2Z"
      },
      "outputs": [],
      "source": [
        "seconds = int(input(\"Введите число секунд\"))"
      ]
    },
    {
      "cell_type": "code",
      "execution_count": 22,
      "metadata": {
        "id": "hZ9eY7HsoKyd"
      },
      "outputs": [
        {
          "name": "stdout",
          "output_type": "stream",
          "text": [
            "Количество секунд:  60\n",
            "0:00:01:00\n"
          ]
        }
      ],
      "source": [
        "# ваш код в этой ячейке\n",
        "seconds1 = int(input(\"Введите число секунд\"))\n",
        "\n",
        "days = seconds1 // (24 * 3600)\n",
        "hours = (seconds1 % (24 * 3600)) // 3600\n",
        "minutes = (seconds1 % 3600) // 60\n",
        "seconds = seconds1 % 60\n",
        "\n",
        "result = f\"{days}:{hours:02d}:{minutes:02d}:{seconds:02d}\"\n",
        "\n",
        "print(\"Количество секунд: \", seconds1)\n",
        "print(result)\n"
      ]
    },
    {
      "cell_type": "markdown",
      "metadata": {
        "id": "YvbgX3ODpx4H"
      },
      "source": [
        "---"
      ]
    }
  ],
  "metadata": {
    "colab": {
      "provenance": []
    },
    "kernelspec": {
      "display_name": "Python 3",
      "name": "python3"
    },
    "language_info": {
      "codemirror_mode": {
        "name": "ipython",
        "version": 3
      },
      "file_extension": ".py",
      "mimetype": "text/x-python",
      "name": "python",
      "nbconvert_exporter": "python",
      "pygments_lexer": "ipython3",
      "version": "3.12.0"
    }
  },
  "nbformat": 4,
  "nbformat_minor": 0
}
